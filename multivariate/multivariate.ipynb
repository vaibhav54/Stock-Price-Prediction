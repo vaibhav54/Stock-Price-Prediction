{
  "nbformat": 4,
  "nbformat_minor": 0,
  "metadata": {
    "colab": {
      "name": "multivariate.ipynb",
      "provenance": [],
      "collapsed_sections": []
    },
    "kernelspec": {
      "name": "python3",
      "display_name": "Python 3"
    }
  },
  "cells": [
    {
      "cell_type": "markdown",
      "metadata": {
        "id": "wE6_6rA2Shtp",
        "colab_type": "text"
      },
      "source": [
        "# Multivariate Stock Price Prediction"
      ]
    },
    {
      "cell_type": "markdown",
      "metadata": {
        "id": "BrjE9XGcS2IV",
        "colab_type": "text"
      },
      "source": [
        "###Method: \n",
        "Predicting next day's 'Open' feature value of stock price by providing previous day's 4 main stock features i.e. ('Open', 'Close', 'High', 'Low') "
      ]
    },
    {
      "cell_type": "markdown",
      "metadata": {
        "id": "RzrYlnPIZ7Z9",
        "colab_type": "text"
      },
      "source": [
        "## Dataset:\n",
        "Training in Google's 4 years of data.       \n",
        "Dataset: https://www.kaggle.com/ptheru/googledta"
      ]
    },
    {
      "cell_type": "code",
      "metadata": {
        "id": "UQg46azXnYtH",
        "colab_type": "code",
        "colab": {}
      },
      "source": [
        "import pandas as pd\n",
        "import numpy as np\n",
        "import matplotlib.pyplot as plt\n",
        "from math import sqrt"
      ],
      "execution_count": null,
      "outputs": []
    },
    {
      "cell_type": "code",
      "metadata": {
        "id": "dvUf3RPKnr7o",
        "colab_type": "code",
        "colab": {}
      },
      "source": [
        "train_df = pd.read_csv('/content/trainset.csv')\n",
        "test_df = pd.read_csv('/content/testset.csv')"
      ],
      "execution_count": null,
      "outputs": []
    },
    {
      "cell_type": "code",
      "metadata": {
        "id": "m0OqfreIntc7",
        "colab_type": "code",
        "colab": {}
      },
      "source": [
        "train_df = train_df.drop(['Adj Close', 'Volume', 'Date'], axis='columns') \n",
        "test_df = test_df.drop(['Adj Close', 'Volume', 'Date'], axis='columns') "
      ],
      "execution_count": null,
      "outputs": []
    },
    {
      "cell_type": "code",
      "metadata": {
        "id": "xqLMw_RAntLV",
        "colab_type": "code",
        "colab": {
          "base_uri": "https://localhost:8080/",
          "height": 204
        },
        "outputId": "b6bca4c9-895c-4204-f02d-057a8773af5c"
      },
      "source": [
        "train_df = train_df/1000  #scaling values\n",
        "train_df.head()"
      ],
      "execution_count": null,
      "outputs": [
        {
          "output_type": "execute_result",
          "data": {
            "text/html": [
              "<div>\n",
              "<style scoped>\n",
              "    .dataframe tbody tr th:only-of-type {\n",
              "        vertical-align: middle;\n",
              "    }\n",
              "\n",
              "    .dataframe tbody tr th {\n",
              "        vertical-align: top;\n",
              "    }\n",
              "\n",
              "    .dataframe thead th {\n",
              "        text-align: right;\n",
              "    }\n",
              "</style>\n",
              "<table border=\"1\" class=\"dataframe\">\n",
              "  <thead>\n",
              "    <tr style=\"text-align: right;\">\n",
              "      <th></th>\n",
              "      <th>Open</th>\n",
              "      <th>High</th>\n",
              "      <th>Low</th>\n",
              "      <th>Close</th>\n",
              "    </tr>\n",
              "  </thead>\n",
              "  <tbody>\n",
              "    <tr>\n",
              "      <th>0</th>\n",
              "      <td>0.357386</td>\n",
              "      <td>0.361151</td>\n",
              "      <td>0.355960</td>\n",
              "      <td>0.359288</td>\n",
              "    </tr>\n",
              "    <tr>\n",
              "      <th>1</th>\n",
              "      <td>0.360123</td>\n",
              "      <td>0.363600</td>\n",
              "      <td>0.358031</td>\n",
              "      <td>0.359497</td>\n",
              "    </tr>\n",
              "    <tr>\n",
              "      <th>2</th>\n",
              "      <td>0.362314</td>\n",
              "      <td>0.368339</td>\n",
              "      <td>0.361489</td>\n",
              "      <td>0.366601</td>\n",
              "    </tr>\n",
              "    <tr>\n",
              "      <th>3</th>\n",
              "      <td>0.365349</td>\n",
              "      <td>0.367301</td>\n",
              "      <td>0.362930</td>\n",
              "      <td>0.365001</td>\n",
              "    </tr>\n",
              "    <tr>\n",
              "      <th>4</th>\n",
              "      <td>0.365393</td>\n",
              "      <td>0.365771</td>\n",
              "      <td>0.359874</td>\n",
              "      <td>0.364281</td>\n",
              "    </tr>\n",
              "  </tbody>\n",
              "</table>\n",
              "</div>"
            ],
            "text/plain": [
              "       Open      High       Low     Close\n",
              "0  0.357386  0.361151  0.355960  0.359288\n",
              "1  0.360123  0.363600  0.358031  0.359497\n",
              "2  0.362314  0.368339  0.361489  0.366601\n",
              "3  0.365349  0.367301  0.362930  0.365001\n",
              "4  0.365393  0.365771  0.359874  0.364281"
            ]
          },
          "metadata": {
            "tags": []
          },
          "execution_count": 1232
        }
      ]
    },
    {
      "cell_type": "code",
      "metadata": {
        "id": "Dbqb_c9J35kd",
        "colab_type": "code",
        "colab": {
          "base_uri": "https://localhost:8080/",
          "height": 204
        },
        "outputId": "1c048966-f831-427b-9850-373410b8d219"
      },
      "source": [
        "test_df = test_df/1000\n",
        "test_df.head()"
      ],
      "execution_count": null,
      "outputs": [
        {
          "output_type": "execute_result",
          "data": {
            "text/html": [
              "<div>\n",
              "<style scoped>\n",
              "    .dataframe tbody tr th:only-of-type {\n",
              "        vertical-align: middle;\n",
              "    }\n",
              "\n",
              "    .dataframe tbody tr th {\n",
              "        vertical-align: top;\n",
              "    }\n",
              "\n",
              "    .dataframe thead th {\n",
              "        text-align: right;\n",
              "    }\n",
              "</style>\n",
              "<table border=\"1\" class=\"dataframe\">\n",
              "  <thead>\n",
              "    <tr style=\"text-align: right;\">\n",
              "      <th></th>\n",
              "      <th>Open</th>\n",
              "      <th>High</th>\n",
              "      <th>Low</th>\n",
              "      <th>Close</th>\n",
              "    </tr>\n",
              "  </thead>\n",
              "  <tbody>\n",
              "    <tr>\n",
              "      <th>0</th>\n",
              "      <td>1.04834</td>\n",
              "      <td>1.06694</td>\n",
              "      <td>1.045230</td>\n",
              "      <td>1.06500</td>\n",
              "    </tr>\n",
              "    <tr>\n",
              "      <th>1</th>\n",
              "      <td>1.06431</td>\n",
              "      <td>1.08629</td>\n",
              "      <td>1.063210</td>\n",
              "      <td>1.08248</td>\n",
              "    </tr>\n",
              "    <tr>\n",
              "      <th>2</th>\n",
              "      <td>1.08800</td>\n",
              "      <td>1.09357</td>\n",
              "      <td>1.084002</td>\n",
              "      <td>1.08640</td>\n",
              "    </tr>\n",
              "    <tr>\n",
              "      <th>3</th>\n",
              "      <td>1.09400</td>\n",
              "      <td>1.10425</td>\n",
              "      <td>1.092000</td>\n",
              "      <td>1.10223</td>\n",
              "    </tr>\n",
              "    <tr>\n",
              "      <th>4</th>\n",
              "      <td>1.10223</td>\n",
              "      <td>1.11127</td>\n",
              "      <td>1.101620</td>\n",
              "      <td>1.10694</td>\n",
              "    </tr>\n",
              "  </tbody>\n",
              "</table>\n",
              "</div>"
            ],
            "text/plain": [
              "      Open     High       Low    Close\n",
              "0  1.04834  1.06694  1.045230  1.06500\n",
              "1  1.06431  1.08629  1.063210  1.08248\n",
              "2  1.08800  1.09357  1.084002  1.08640\n",
              "3  1.09400  1.10425  1.092000  1.10223\n",
              "4  1.10223  1.11127  1.101620  1.10694"
            ]
          },
          "metadata": {
            "tags": []
          },
          "execution_count": 1233
        }
      ]
    },
    {
      "cell_type": "code",
      "metadata": {
        "id": "Hxq2PD0Btd_5",
        "colab_type": "code",
        "colab": {
          "base_uri": "https://localhost:8080/",
          "height": 34
        },
        "outputId": "1aeca693-90e9-4137-b355-ce09083cc320"
      },
      "source": [
        "len(train_df.index)"
      ],
      "execution_count": null,
      "outputs": [
        {
          "output_type": "execute_result",
          "data": {
            "text/plain": [
              "1259"
            ]
          },
          "metadata": {
            "tags": []
          },
          "execution_count": 1234
        }
      ]
    },
    {
      "cell_type": "code",
      "metadata": {
        "id": "V0wwM0Gytdja",
        "colab_type": "code",
        "colab": {}
      },
      "source": [
        "new_open = []\n",
        "new_open2 = []\n",
        "\n",
        "for i in range(len(train_df.index) - 1):\n",
        "    new_open.append(train_df.loc[i+1,'Open'])\n",
        "\n",
        "\n",
        "for i in range(len(test_df.index) - 1):\n",
        "    new_open2.append(test_df.loc[i+1, 'Open'])\n"
      ],
      "execution_count": null,
      "outputs": []
    },
    {
      "cell_type": "code",
      "metadata": {
        "id": "3craamJc0nHj",
        "colab_type": "code",
        "colab": {}
      },
      "source": [
        "new_open.append(0)\n",
        "new_open2.append(0)"
      ],
      "execution_count": null,
      "outputs": []
    },
    {
      "cell_type": "code",
      "metadata": {
        "id": "50Qg-Pm9wXTC",
        "colab_type": "code",
        "colab": {}
      },
      "source": [
        "\n",
        "train_df['new_open'] = new_open\n",
        "test_df['new_open']  = new_open2"
      ],
      "execution_count": null,
      "outputs": []
    },
    {
      "cell_type": "code",
      "metadata": {
        "id": "8hZoNRtwwXFG",
        "colab_type": "code",
        "colab": {
          "base_uri": "https://localhost:8080/",
          "height": 221
        },
        "outputId": "a146dd0d-ba51-4733-f991-1926a43b0a0d"
      },
      "source": [
        "train_df.head(), test_df.head()"
      ],
      "execution_count": null,
      "outputs": [
        {
          "output_type": "execute_result",
          "data": {
            "text/plain": [
              "(       Open      High       Low     Close  new_open\n",
              " 0  0.357386  0.361151  0.355960  0.359288  0.360123\n",
              " 1  0.360123  0.363600  0.358031  0.359497  0.362314\n",
              " 2  0.362314  0.368339  0.361489  0.366601  0.365349\n",
              " 3  0.365349  0.367301  0.362930  0.365001  0.365393\n",
              " 4  0.365393  0.365771  0.359874  0.364281  0.363769,\n",
              "       Open     High       Low    Close  new_open\n",
              " 0  1.04834  1.06694  1.045230  1.06500   1.06431\n",
              " 1  1.06431  1.08629  1.063210  1.08248   1.08800\n",
              " 2  1.08800  1.09357  1.084002  1.08640   1.09400\n",
              " 3  1.09400  1.10425  1.092000  1.10223   1.10223\n",
              " 4  1.10223  1.11127  1.101620  1.10694   1.10940)"
            ]
          },
          "metadata": {
            "tags": []
          },
          "execution_count": 1238
        }
      ]
    },
    {
      "cell_type": "code",
      "metadata": {
        "id": "Fu48N4d7wWv4",
        "colab_type": "code",
        "colab": {}
      },
      "source": [
        "train_df = train_df.drop(index=(len(train_df)-1), axis='rows')\n",
        "test_df = test_df.drop(index=(len(test_df)-1), axis='rows')"
      ],
      "execution_count": null,
      "outputs": []
    },
    {
      "cell_type": "code",
      "metadata": {
        "id": "dWGRIRJP_o4s",
        "colab_type": "code",
        "colab": {}
      },
      "source": [
        "# test_df.head()"
      ],
      "execution_count": null,
      "outputs": []
    },
    {
      "cell_type": "code",
      "metadata": {
        "id": "0_PC_27ZsSeN",
        "colab_type": "code",
        "colab": {
          "base_uri": "https://localhost:8080/",
          "height": 119
        },
        "outputId": "21fa6b1c-d2f4-41b8-b0ce-daced30de602"
      },
      "source": [
        "# Concatenating train and test data into one dataframe\n",
        "# used later for visualization part\n",
        "\n",
        "total_df = pd.concat((train_df, test_df), axis='rows')\n",
        "total_df.count(axis='rows')"
      ],
      "execution_count": null,
      "outputs": [
        {
          "output_type": "execute_result",
          "data": {
            "text/plain": [
              "Open        1382\n",
              "High        1382\n",
              "Low         1382\n",
              "Close       1382\n",
              "new_open    1382\n",
              "dtype: int64"
            ]
          },
          "metadata": {
            "tags": []
          },
          "execution_count": 1241
        }
      ]
    },
    {
      "cell_type": "code",
      "metadata": {
        "id": "FsfdcY_P2Cj5",
        "colab_type": "code",
        "colab": {}
      },
      "source": [
        "# Splitting\n",
        "\n",
        "X_train,Y_train = train_df.loc[:, ['Open','High','Low','Close']], train_df.loc[:, 'new_open']\n",
        "X_test,Y_test = test_df.loc[:, ['Open','High','Low','Close']], test_df.loc[:, 'new_open']"
      ],
      "execution_count": null,
      "outputs": []
    },
    {
      "cell_type": "code",
      "metadata": {
        "id": "7cCtkhcc8WUq",
        "colab_type": "code",
        "colab": {
          "base_uri": "https://localhost:8080/",
          "height": 51
        },
        "outputId": "44adaa7d-33ea-4cbf-8810-d6805211ea71"
      },
      "source": [
        "print(X_train.shape, Y_train.shape)\n",
        "print(X_test.shape, Y_test.shape)"
      ],
      "execution_count": null,
      "outputs": [
        {
          "output_type": "stream",
          "text": [
            "(1258, 4) (1258,)\n",
            "(124, 4) (124,)\n"
          ],
          "name": "stdout"
        }
      ]
    },
    {
      "cell_type": "code",
      "metadata": {
        "id": "XpNNvaieFILl",
        "colab_type": "code",
        "colab": {}
      },
      "source": [
        "X_train, Y_train = X_train.to_numpy(), Y_train.to_numpy()\n",
        "X_test, Y_test = X_test.to_numpy(), Y_test.to_numpy()"
      ],
      "execution_count": null,
      "outputs": []
    },
    {
      "cell_type": "code",
      "metadata": {
        "id": "jiYuJ3X7FH3O",
        "colab_type": "code",
        "colab": {
          "base_uri": "https://localhost:8080/",
          "height": 34
        },
        "outputId": "33f52bb8-abf8-4faa-fe1a-e71db5d20658"
      },
      "source": [
        "type(X_train), type(Y_test), type(X_test), type(Y_train)"
      ],
      "execution_count": null,
      "outputs": [
        {
          "output_type": "execute_result",
          "data": {
            "text/plain": [
              "(numpy.ndarray, numpy.ndarray, numpy.ndarray, numpy.ndarray)"
            ]
          },
          "metadata": {
            "tags": []
          },
          "execution_count": 1245
        }
      ]
    },
    {
      "cell_type": "code",
      "metadata": {
        "id": "REc_7DK7FHfh",
        "colab_type": "code",
        "colab": {}
      },
      "source": [
        "# Reshaping samples because LSTM layer requires 3d input\n",
        "# New shape format: (samples, time_steps, features)   //time_steps=1, because we're prediciing next day's data\n",
        "\n",
        "X_train = np.reshape(X_train, newshape=(X_train.shape[0], 1, X_train.shape[1]))\n",
        "X_test = np.reshape(X_test, newshape=(X_test.shape[0], 1, X_test.shape[1]))\n",
        "\n",
        "X_train.shape, X_test.shape"
      ],
      "execution_count": null,
      "outputs": []
    },
    {
      "cell_type": "markdown",
      "metadata": {
        "id": "PZZRDCvMZY6L",
        "colab_type": "text"
      },
      "source": [
        "## Model  Training"
      ]
    },
    {
      "cell_type": "code",
      "metadata": {
        "id": "M1vMnpWMqagn",
        "colab_type": "code",
        "colab": {}
      },
      "source": [
        "from keras.models import Sequential\n",
        "from keras.callbacks import EarlyStopping\n",
        "from keras.layers import LSTM, Dense, Dropout"
      ],
      "execution_count": null,
      "outputs": []
    },
    {
      "cell_type": "code",
      "metadata": {
        "id": "78M50z_8qaWP",
        "colab_type": "code",
        "colab": {
          "base_uri": "https://localhost:8080/",
          "height": 221
        },
        "outputId": "bb5e79f3-6b0f-4004-c4eb-47080027f9ab"
      },
      "source": [
        "model = Sequential()\n",
        "model.add(LSTM(4,return_sequences=False,  batch_input_shape=(None, X_train.shape[1], X_train.shape[2] )))\n",
        "# model.add(Dropout(0.2))\n",
        "# model.add(LSTM(4, return_sequences=False))\n",
        "model.add(Dense(1))\n",
        "\n",
        "model.compile(loss='mse', optimizer= 'adam', metrics=['mse'])\n",
        "model.summary()"
      ],
      "execution_count": null,
      "outputs": [
        {
          "output_type": "stream",
          "text": [
            "Model: \"sequential_40\"\n",
            "_________________________________________________________________\n",
            "Layer (type)                 Output Shape              Param #   \n",
            "=================================================================\n",
            "lstm_44 (LSTM)               (None, 4)                 144       \n",
            "_________________________________________________________________\n",
            "dense_38 (Dense)             (None, 1)                 5         \n",
            "=================================================================\n",
            "Total params: 149\n",
            "Trainable params: 149\n",
            "Non-trainable params: 0\n",
            "_________________________________________________________________\n"
          ],
          "name": "stdout"
        }
      ]
    },
    {
      "cell_type": "code",
      "metadata": {
        "id": "IQ4UxiqzqaH9",
        "colab_type": "code",
        "colab": {}
      },
      "source": [
        "es = EarlyStopping(monitor='val_loss',patience=15)\n",
        "callback = [es]\n",
        "\n",
        "history = model.fit(X_train, Y_train, epochs=250, verbose=1,\n",
        "                    validation_data=(X_test, Y_test), callbacks=callback ) \n",
        "\n",
        "# To fit without early stopping remove 'callbacks' parameter                    "
      ],
      "execution_count": null,
      "outputs": []
    },
    {
      "cell_type": "markdown",
      "metadata": {
        "id": "hEuK5aYpZpd5",
        "colab_type": "text"
      },
      "source": [
        "## Evaluating Performance"
      ]
    },
    {
      "cell_type": "code",
      "metadata": {
        "id": "r4YkzfxlqYlB",
        "colab_type": "code",
        "colab": {
          "base_uri": "https://localhost:8080/",
          "height": 68
        },
        "outputId": "0a0c0554-dda0-4ffd-f7ab-f418630ee409"
      },
      "source": [
        "from sklearn.metrics import mean_squared_error\n",
        "from sklearn.metrics import mean_absolute_error\n",
        "\n",
        "pred = model.predict(X_test)\n",
        "\n",
        "# Inverse scaling the values (working on original values)\n",
        "pred = pred*1000\n",
        "Y_test2 = Y_test*1000\n",
        "Y_train = Y_train*1000\n",
        "total_df = total_df*1000\n",
        "\n",
        "Y_test2 = np.reshape(Y_test2, (Y_test2.shape[0], 1))\n",
        "\n",
        "print('mse: ',mean_squared_error(pred, Y_test2))\n",
        "print('rmse: ',sqrt(mean_squared_error(pred, Y_test2)))\n",
        "print('mae: ',mean_absolute_error(pred, Y_test2))"
      ],
      "execution_count": null,
      "outputs": [
        {
          "output_type": "stream",
          "text": [
            "mse:  352.66194728702277\n",
            "rmse:  18.779295707960475\n",
            "mae:  16.27593698667465\n"
          ],
          "name": "stdout"
        }
      ]
    },
    {
      "cell_type": "markdown",
      "metadata": {
        "id": "Fj5BAGp7Rweh",
        "colab_type": "text"
      },
      "source": [
        "#Visualization"
      ]
    },
    {
      "cell_type": "markdown",
      "metadata": {
        "id": "9L35ELKxRIlF",
        "colab_type": "text"
      },
      "source": [
        "###Change in Loss wrt Epochs\n",
        "\n",
        "\n"
      ]
    },
    {
      "cell_type": "code",
      "metadata": {
        "id": "YtVfb8AbqZ9z",
        "colab_type": "code",
        "colab": {
          "base_uri": "https://localhost:8080/",
          "height": 295
        },
        "outputId": "53721b14-592c-463f-8ce5-88e3684df48e"
      },
      "source": [
        "plt.plot(history.history['val_loss'], color='red', label='test')\n",
        "plt.plot(history.history['loss'], color='blue', label='train')\n",
        "plt.title('Change in loss wrt Epochs')\n",
        "plt.xlabel('Epochs')\n",
        "plt.ylabel('Loss')\n",
        "plt.legend()\n",
        "plt.show()"
      ],
      "execution_count": null,
      "outputs": [
        {
          "output_type": "display_data",
          "data": {
            "image/png": "[encoded data removed]",
            "text/plain": [
              "<Figure size 432x288 with 1 Axes>"
            ]
          },
          "metadata": {
            "tags": [],
            "needs_background": "light"
          }
        }
      ]
    },
    {
      "cell_type": "code",
      "metadata": {
        "id": "pBVvkAk5J9Ia",
        "colab_type": "code",
        "colab": {
          "base_uri": "https://localhost:8080/",
          "height": 34
        },
        "outputId": "14bee361-dc5f-4446-8d65-108aef5e99be"
      },
      "source": [
        "pred.shape, Y_test2.shape"
      ],
      "execution_count": null,
      "outputs": [
        {
          "output_type": "execute_result",
          "data": {
            "text/plain": [
              "((124, 1), (124, 1))"
            ]
          },
          "metadata": {
            "tags": []
          },
          "execution_count": 1253
        }
      ]
    },
    {
      "cell_type": "code",
      "metadata": {
        "id": "czKzabIiKPm1",
        "colab_type": "code",
        "colab": {
          "base_uri": "https://localhost:8080/",
          "height": 34
        },
        "outputId": "e6fb165b-bdd9-40e4-c47b-cd43af084afe"
      },
      "source": [
        "Y_test2 = np.reshape(Y_test2, (Y_test2.shape[0], 1))\n",
        "Y_test2.shape"
      ],
      "execution_count": null,
      "outputs": [
        {
          "output_type": "execute_result",
          "data": {
            "text/plain": [
              "(124, 1)"
            ]
          },
          "metadata": {
            "tags": []
          },
          "execution_count": 1254
        }
      ]
    },
    {
      "cell_type": "code",
      "metadata": {
        "id": "mwWEDn_p8RT_",
        "colab_type": "code",
        "colab": {
          "base_uri": "https://localhost:8080/",
          "height": 187
        },
        "outputId": "1074770c-b974-47c2-f577-b4babb9e95c3"
      },
      "source": [
        "Y_test2[:10]"
      ],
      "execution_count": null,
      "outputs": [
        {
          "output_type": "execute_result",
          "data": {
            "text/plain": [
              "array([[1064.310059],\n",
              "       [1088.      ],\n",
              "       [1094.      ],\n",
              "       [1102.22998 ],\n",
              "       [1109.400024],\n",
              "       [1097.099976],\n",
              "       [1106.300049],\n",
              "       [1102.410034],\n",
              "       [1132.51001 ],\n",
              "       [1126.219971]])"
            ]
          },
          "metadata": {
            "tags": []
          },
          "execution_count": 1255
        }
      ]
    },
    {
      "cell_type": "code",
      "metadata": {
        "id": "lbs3rd8KLcPi",
        "colab_type": "code",
        "colab": {
          "base_uri": "https://localhost:8080/",
          "height": 34
        },
        "outputId": "731f286e-06d3-45f9-c3ff-85ca4da3c55f"
      },
      "source": [
        "#For visualization we need all numpy array of same dimension\n",
        "\n",
        "Y_train = np.reshape(Y_train, (Y_train.shape[0],1))\n",
        "\n",
        "total_df = total_df.to_numpy()\n",
        "total_temp = total_df[:,4]   #fetching only new_open column for original dataset\n",
        "total_temp = np.reshape(total_temp, (total_temp.shape[0], 1))\n",
        "\n",
        "Y_train.shape, pred.shape, total_temp.shape\n"
      ],
      "execution_count": null,
      "outputs": [
        {
          "output_type": "execute_result",
          "data": {
            "text/plain": [
              "((1258, 1), (124, 1), (1382, 1))"
            ]
          },
          "metadata": {
            "tags": []
          },
          "execution_count": 1256
        }
      ]
    },
    {
      "cell_type": "code",
      "metadata": {
        "id": "JpwM28nFPL5m",
        "colab_type": "code",
        "colab": {
          "base_uri": "https://localhost:8080/",
          "height": 34
        },
        "outputId": "ebe29d79-0e85-42e7-bc45-a39a471e6a00"
      },
      "source": [
        "new_np = np.concatenate((Y_train, pred), axis=0)\n",
        "new_np.shape"
      ],
      "execution_count": null,
      "outputs": [
        {
          "output_type": "execute_result",
          "data": {
            "text/plain": [
              "(1382, 1)"
            ]
          },
          "metadata": {
            "tags": []
          },
          "execution_count": 1257
        }
      ]
    },
    {
      "cell_type": "markdown",
      "metadata": {
        "id": "_tZ7a7IARhB0",
        "colab_type": "text"
      },
      "source": [
        "###Original Dataset Vs Original train + Predicted test\n",
        "\n"
      ]
    },
    {
      "cell_type": "code",
      "metadata": {
        "id": "49y_j9CmLNyp",
        "colab_type": "code",
        "colab": {
          "base_uri": "https://localhost:8080/",
          "height": 516
        },
        "outputId": "45a48ef3-52d3-4e52-eb3d-7279e41870a3"
      },
      "source": [
        "plt.figure(figsize=(16,8))\n",
        "plt.plot(total_temp, color='red', label='Original Dataset')\n",
        "plt.plot(new_np, color='blue',label=\"Original train + Predicted test\" )\n",
        "plt.title('Original Dataset VS Original train + Predicted test')\n",
        "plt.legend()\n",
        "plt.grid(True)\n",
        "plt.plot()"
      ],
      "execution_count": null,
      "outputs": [
        {
          "output_type": "execute_result",
          "data": {
            "text/plain": [
              "[]"
            ]
          },
          "metadata": {
            "tags": []
          },
          "execution_count": 1258
        },
        {
          "output_type": "display_data",
          "data": {
            "image/png": "[encoded data removed]",
            "text/plain": [
              "<Figure size 1152x576 with 1 Axes>"
            ]
          },
          "metadata": {
            "tags": [],
            "needs_background": "light"
          }
        }
      ]
    },
    {
      "cell_type": "markdown",
      "metadata": {
        "id": "rz2Om-e0RqTj",
        "colab_type": "text"
      },
      "source": [
        "###Y_test VS Predictions"
      ]
    },
    {
      "cell_type": "code",
      "metadata": {
        "id": "rrTK3hosQQFZ",
        "colab_type": "code",
        "colab": {
          "base_uri": "https://localhost:8080/",
          "height": 536
        },
        "outputId": "5e35d77c-d4d2-4f1c-d068-50f7572f8e4b"
      },
      "source": [
        "# A close view of actual and predicted values\n",
        "\n",
        "plt.figure(figsize=(18,9))\n",
        "plt.plot(pred, color='red', label='Predictions')\n",
        "plt.plot(Y_test2, color='blue', label='Actual values')\n",
        "plt.title('Y_test VS Predictions')\n",
        "plt.legend()\n",
        "plt.grid(True)\n",
        "plt.plot()"
      ],
      "execution_count": null,
      "outputs": [
        {
          "output_type": "execute_result",
          "data": {
            "text/plain": [
              "[]"
            ]
          },
          "metadata": {
            "tags": []
          },
          "execution_count": 1259
        },
        {
          "output_type": "display_data",
          "data": {
            "image/png": "[encoded data removed]",
            "text/plain": [
              "<Figure size 1296x648 with 1 Axes>"
            ]
          },
          "metadata": {
            "tags": [],
            "needs_background": "light"
          }
        }
      ]
    },
    {
      "cell_type": "code",
      "metadata": {
        "id": "XCsb9u1-8wsf",
        "colab_type": "code",
        "colab": {}
      },
      "source": [
        ""
      ],
      "execution_count": null,
      "outputs": []
    },
    {
      "cell_type": "code",
      "metadata": {
        "id": "ZxO6eIfY8wSE",
        "colab_type": "code",
        "colab": {}
      },
      "source": [
        ""
      ],
      "execution_count": null,
      "outputs": []
    }
  ]
}